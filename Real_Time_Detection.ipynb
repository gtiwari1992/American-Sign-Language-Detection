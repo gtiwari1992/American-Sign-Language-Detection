{
 "cells": [
  {
   "cell_type": "markdown",
   "id": "4c638122",
   "metadata": {},
   "source": [
    "Uploading Necessary Libraries"
   ]
  },
  {
   "cell_type": "code",
   "execution_count": 1,
   "id": "fc74d295",
   "metadata": {},
   "outputs": [],
   "source": [
    "import os\n",
    "import os.path\n",
    "from pathlib import Path\n",
    "import numpy as np\n",
    "import pandas as pd\n",
    "import tensorflow as tf\n",
    "from tensorflow import keras\n",
    "import matplotlib.pyplot as plt\n",
    "import seaborn as sns\n",
    "from sklearn.preprocessing import MinMaxScaler\n",
    "from keras.models import load_model\n",
    "from sklearn.model_selection import train_test_split\n",
    "from sklearn.preprocessing import StandardScaler\n",
    "from sklearn import preprocessing\n",
    "from timeit import default_timer as timer\n",
    "from time import perf_counter\n",
    "from sklearn.metrics import confusion_matrix\n",
    "from sklearn.model_selection import train_test_split\n",
    "from sklearn.metrics import classification_report,accuracy_score\n",
    "from IPython.display import Markdown, display\n",
    "import cv2\n",
    "import numpy as np\n",
    "import os\n",
    "from scipy import stats\n",
    "from matplotlib import pyplot as plt\n",
    "import time\n",
    "import mediapipe as mp\n",
    "from keras.models import Sequential, model_from_json\n",
    "from keras.layers import Conv2D, MaxPooling2D, Activation, Dense, Flatten\n",
    "import joblib\n",
    "import pickle\n"
   ]
  },
  {
   "cell_type": "markdown",
   "id": "0c671327",
   "metadata": {},
   "source": [
    "Loading the model from the JSON Files and uploading the weights for Custom model"
   ]
  },
  {
   "cell_type": "code",
   "execution_count": 2,
   "id": "614a4d7a",
   "metadata": {},
   "outputs": [
    {
     "name": "stdout",
     "output_type": "stream",
     "text": [
      "Loaded model from disk\n"
     ]
    }
   ],
   "source": [
    "# load json and create model\n",
    "json_file = open('custom_cnn_model.json', 'r')\n",
    "loaded_model_json = json_file.read()\n",
    "json_file.close()\n",
    "loaded_model = model_from_json(loaded_model_json)\n",
    "# load weights into new model\n",
    "loaded_model.load_weights(\"custom_cnn_model.h5\")\n",
    "print(\"Loaded model from disk\")\n"
   ]
  },
  {
   "cell_type": "markdown",
   "id": "b3c2314c",
   "metadata": {},
   "source": [
    "Compiling the model"
   ]
  },
  {
   "cell_type": "code",
   "execution_count": 3,
   "id": "75393c10",
   "metadata": {},
   "outputs": [],
   "source": [
    "loaded_model.compile(optimizer='adam',loss='categorical_crossentropy',metrics=['accuracy'])"
   ]
  },
  {
   "cell_type": "markdown",
   "id": "1b9afe73",
   "metadata": {},
   "source": [
    "Reading the Labels"
   ]
  },
  {
   "cell_type": "code",
   "execution_count": 4,
   "id": "c27440f0",
   "metadata": {},
   "outputs": [],
   "source": [
    "with open('labels_detection.pickle', 'rb') as f:\n",
    "    labels1 = pickle.load(f)"
   ]
  },
  {
   "cell_type": "code",
   "execution_count": 5,
   "id": "53dc7df5",
   "metadata": {},
   "outputs": [
    {
     "data": {
      "text/plain": [
       "'space'"
      ]
     },
     "execution_count": 5,
     "metadata": {},
     "output_type": "execute_result"
    }
   ],
   "source": [
    "labels1[28]"
   ]
  },
  {
   "cell_type": "markdown",
   "id": "3579046d",
   "metadata": {},
   "source": [
    "defining the hand area"
   ]
  },
  {
   "cell_type": "code",
   "execution_count": 6,
   "id": "585b814c",
   "metadata": {},
   "outputs": [],
   "source": [
    "def hand_area(img):\n",
    "    hand = img[100:324, 100:324]\n",
    "    hand = cv2.resize(hand, (224,224))\n",
    "    return hand"
   ]
  },
  {
   "cell_type": "markdown",
   "id": "6d5b4e17",
   "metadata": {},
   "source": [
    "Opening the webcam for videocapture"
   ]
  },
  {
   "cell_type": "code",
   "execution_count": 7,
   "id": "45567fa8",
   "metadata": {},
   "outputs": [],
   "source": [
    "cap = cv2.VideoCapture(0)\n",
    "if (cap.isOpened() == False):\n",
    "    print('Error while trying to open camera. Plese check again...')\n",
    "# get the frame width and height\n",
    "frame_width = int(cap.get(3))\n",
    "frame_height = int(cap.get(4))\n",
    "# # define codec and create VideoWriter object\n",
    "out = cv2.VideoWriter('./asl.avi', cv2.VideoWriter_fourcc(*'MJPG'), 30, (frame_width,frame_height))"
   ]
  },
  {
   "cell_type": "markdown",
   "id": "686c8e16",
   "metadata": {},
   "source": [
    "Prediction"
   ]
  },
  {
   "cell_type": "code",
   "execution_count": null,
   "id": "ca87e7da",
   "metadata": {},
   "outputs": [],
   "source": [
    "while(cap.isOpened()):\n",
    "    # capture each frame of the video\n",
    "    ret, frame = cap.read()\n",
    "    # get the hand area on the video capture screen\n",
    "    cv2.rectangle(frame, (100, 100), (324, 324), (20, 34, 255), 2)\n",
    "    hand = hand_area(frame)\n",
    "    image = hand\n",
    "    image = cv2.flip(image, 1)\n",
    "#     image = np.transpose(image, (2, 0, 1)).astype(np.float32)\n",
    "    image = np.expand_dims(image, axis=0)\n",
    "    pred = loaded_model.predict(image)\n",
    "    pred = np.argmax(pred,axis=1)\n",
    "    print(pred)\n",
    "#     pred = labels1[pred[]]\n",
    "    pred = (pred[0])\n",
    "    pred = labels1[pred]\n",
    "    print(pred)\n",
    "    cv2.putText(frame, pred, (10, 30), cv2.FONT_HERSHEY_SIMPLEX, 1, (0, 0, 255), 2)\n",
    "    cv2.imshow('image', frame)\n",
    "    out.write(frame)\n",
    "    # press `q` to exit\n",
    "    if cv2.waitKey(27) & 0xFF == ord('q'):  \n",
    "        break"
   ]
  },
  {
   "cell_type": "code",
   "execution_count": 10,
   "id": "030b7317",
   "metadata": {},
   "outputs": [],
   "source": [
    "cap.release()"
   ]
  },
  {
   "cell_type": "code",
   "execution_count": 11,
   "id": "9a99a997",
   "metadata": {},
   "outputs": [],
   "source": [
    "cv2.destroyAllWindows()"
   ]
  },
  {
   "cell_type": "code",
   "execution_count": null,
   "id": "e7e0fe16",
   "metadata": {},
   "outputs": [],
   "source": []
  }
 ],
 "metadata": {
  "kernelspec": {
   "display_name": "Python 3 (ipykernel)",
   "language": "python",
   "name": "python3"
  },
  "language_info": {
   "codemirror_mode": {
    "name": "ipython",
    "version": 3
   },
   "file_extension": ".py",
   "mimetype": "text/x-python",
   "name": "python",
   "nbconvert_exporter": "python",
   "pygments_lexer": "ipython3",
   "version": "3.9.7"
  }
 },
 "nbformat": 4,
 "nbformat_minor": 5
}
